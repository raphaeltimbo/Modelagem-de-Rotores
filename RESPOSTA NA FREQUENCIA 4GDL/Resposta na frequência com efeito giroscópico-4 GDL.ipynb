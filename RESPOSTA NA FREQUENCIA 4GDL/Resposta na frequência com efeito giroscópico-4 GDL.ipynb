{
 "cells": [
  {
   "cell_type": "code",
   "execution_count": 1,
   "metadata": {
    "collapsed": true
   },
   "outputs": [],
   "source": [
    "import scipy as sp\n",
    "import scipy.linalg as la\n",
    "import matplotlib.pyplot as plt\n",
    "from ipywidgets import interact\n",
    "%matplotlib inline\n",
    "sp.set_printoptions(precision=3, linewidth=250, suppress=True)"
   ]
  },
  {
   "cell_type": "markdown",
   "metadata": {},
   "source": [
    "# Resposta no dominio da frequência"
   ]
  },
  {
   "cell_type": "markdown",
   "metadata": {},
   "source": [
    "Consideremos as equações:\n",
    "\\begin{equation}\n",
    "{\\bf M \\ddot{q}} + (\\Omega{\\bf G} + {\\bf C}){\\bf \\dot{q}} + {\\bf Kq} = {\\bf Q}\n",
    "\\end{equation}\n",
    "Onde ${\\bf q}^T = [u \\ v \\ \\theta \\ \\psi]$"
   ]
  },
  {
   "cell_type": "markdown",
   "metadata": {},
   "source": [
    "\\begin{equation}\n",
    "M = \n",
    "\\begin{bmatrix} \n",
    "        m & 0 & 0 & 0 \\\\\n",
    "        0 & m & 0 & 0 \\\\\n",
    "        0 & 0 & I_d & 0 \\\\\n",
    "        0 & 0 & 0 & I_d \n",
    "\\end{bmatrix} \\\\\n",
    "G = \n",
    "\\begin{bmatrix} \n",
    "        0 & 0 & 0 & 0 \\\\\n",
    "        0 & 0 & 0 & 0 \\\\\n",
    "        0 & 0 & 0 & I_p \\\\\n",
    "        0 & 0 & -I_p & 0 \n",
    "\\end{bmatrix} \\\\\n",
    "K = \n",
    "\\begin{bmatrix} \n",
    "        k_{xT} & 0 & 0 & k_{xC} \\\\\n",
    "        0 & k_{yT} & -k_{yC} & 0 \\\\\n",
    "        0 & -k_{yC} & k_{yR} & 0 \\\\\n",
    "        k_{xC} & 0 & 0 & k_{xR} \n",
    "\\end{bmatrix} \\\\\n",
    "C = \n",
    "\\begin{bmatrix} \n",
    "        c_{xT} & 0 & 0 & c_{xC} \\\\\n",
    "        0 & c_{yT} & -c_{yC} & 0 \\\\\n",
    "        0 & -c_{yC} & c_{yR} & 0 \\\\\n",
    "        c_{xC} & 0 & 0 & c_{xR} \n",
    "\\end{bmatrix}\n",
    "\\end{equation}   "
   ]
  },
  {
   "cell_type": "markdown",
   "metadata": {},
   "source": [
    "Iremos agora construir a matriz A considerando as propriedades abaixo:"
   ]
  },
  {
   "cell_type": "code",
   "execution_count": 2,
   "metadata": {
    "collapsed": false
   },
   "outputs": [],
   "source": [
    "m = 122.68\n",
    "Id = 2.8625\n",
    "Ip = 0.6134"
   ]
  },
  {
   "cell_type": "code",
   "execution_count": 3,
   "metadata": {
    "collapsed": false
   },
   "outputs": [],
   "source": [
    "a = 0.25\n",
    "b = 0.25"
   ]
  },
  {
   "cell_type": "code",
   "execution_count": 4,
   "metadata": {
    "collapsed": true
   },
   "outputs": [],
   "source": [
    "kx1 = 1e6\n",
    "ky1 = 1.5e6\n",
    "kx2 = 1.3e6\n",
    "ky2 = 1.8e6"
   ]
  },
  {
   "cell_type": "code",
   "execution_count": 5,
   "metadata": {
    "collapsed": true
   },
   "outputs": [],
   "source": [
    "cx1 = 20\n",
    "cy1 = 30\n",
    "cx2 = 26\n",
    "cy2 = 36"
   ]
  },
  {
   "cell_type": "code",
   "execution_count": 6,
   "metadata": {
    "collapsed": true
   },
   "outputs": [],
   "source": [
    "kxt = kx1 + kx2\n",
    "kyt = ky1 + ky2\n",
    "kxc = -a*kx1 + b*kx2\n",
    "kyc = -a*ky1 + b*ky2\n",
    "kxr = a**2*kx1 + b**2*kx2\n",
    "kyr = a**2*ky1 + b**2*ky2"
   ]
  },
  {
   "cell_type": "code",
   "execution_count": 7,
   "metadata": {
    "collapsed": true
   },
   "outputs": [],
   "source": [
    "cxt = cx1 + cx2\n",
    "cyt = cy1 + cy2\n",
    "cxc = -a*cx1 + b*cx2\n",
    "cyc = -a*cy1 + b*cy2\n",
    "cxr = a**2*cx1 + b**2*cx2\n",
    "cyr = a**2*cy1 + b**2*cy2"
   ]
  },
  {
   "cell_type": "code",
   "execution_count": 8,
   "metadata": {
    "collapsed": false
   },
   "outputs": [],
   "source": [
    "M = sp.diag([m, m, Id, Id])\n",
    "G = sp.array([[0, 0, 0, 0],\n",
    "              [0, 0, 0, 0],\n",
    "              [0, 0, 0, Ip],\n",
    "              [0, 0, -Ip, 0]])\n",
    "C = sp.array([[cxt, 0, 0, cxc],\n",
    "              [0, cyt, -cyc, 0],\n",
    "              [0, -cyc, cyr, 0],\n",
    "              [cxc, 0, 0, cxr]])\n",
    "K = sp.array([[kxt, 0, 0, kxc],\n",
    "              [0, kyt, -kyc, 0],\n",
    "              [0, -kyc, kyr, 0],\n",
    "              [kxc, 0, 0, kxr]])"
   ]
  },
  {
   "cell_type": "code",
   "execution_count": 29,
   "metadata": {
    "collapsed": false
   },
   "outputs": [
    {
     "data": {
      "text/plain": [
       "array([[ 2300000.,        0.,        0.,    75000.],\n",
       "       [       0.,  3300000.,   -75000.,        0.],\n",
       "       [       0.,   -75000.,   206250.,        0.],\n",
       "       [   75000.,        0.,        0.,   143750.]])"
      ]
     },
     "execution_count": 29,
     "metadata": {},
     "output_type": "execute_result"
    }
   ],
   "source": [
    "K"
   ]
  },
  {
   "cell_type": "code",
   "execution_count": 9,
   "metadata": {
    "collapsed": true
   },
   "outputs": [],
   "source": [
    "I = sp.eye(len(M))\n",
    "Z = sp.zeros_like(M)\n",
    "Minv = la.inv(M)"
   ]
  },
  {
   "cell_type": "markdown",
   "metadata": {},
   "source": [
    "Montar a matriz A utilizando hstack e vstack:"
   ]
  },
  {
   "cell_type": "code",
   "execution_count": 10,
   "metadata": {
    "collapsed": true
   },
   "outputs": [],
   "source": [
    "w = 418.88"
   ]
  },
  {
   "cell_type": "code",
   "execution_count": 11,
   "metadata": {
    "collapsed": false
   },
   "outputs": [
    {
     "name": "stdout",
     "output_type": "stream",
     "text": [
      "[[     0.         0.         0.         0.         1.         0.         0.         0.   ]\n",
      " [     0.         0.         0.         0.         0.         1.         0.         0.   ]\n",
      " [     0.         0.         0.         0.         0.         0.         1.         0.   ]\n",
      " [     0.         0.         0.         0.         0.         0.         0.         1.   ]\n",
      " [-18747.962      0.         0.      -611.347     -0.375      0.         0.        -0.012]\n",
      " [     0.    -26899.25     611.347      0.         0.        -0.538      0.012      0.   ]\n",
      " [     0.     26200.873 -72052.402      0.         0.         0.524     -1.441    -89.761]\n",
      " [-26200.873      0.         0.    -50218.341     -0.524      0.        89.761     -1.004]]\n"
     ]
    }
   ],
   "source": [
    "A = sp.vstack([sp.hstack([Z, I]),\n",
    "               sp.hstack([-Minv @ K, -Minv @ (G*w + C)])])\n",
    "print(A)"
   ]
  },
  {
   "cell_type": "markdown",
   "metadata": {},
   "source": [
    "Podemos calcular os autovalores e autovetores com a função scipy.linalg.eig()"
   ]
  },
  {
   "cell_type": "code",
   "execution_count": 12,
   "metadata": {
    "collapsed": false
   },
   "outputs": [],
   "source": [
    "evalues, evects = la.eig(A)\n",
    "evalues = sp.sort(evalues.imag)\n",
    "wn = (sp.absolute(evalues))"
   ]
  },
  {
   "cell_type": "code",
   "execution_count": 13,
   "metadata": {
    "collapsed": false
   },
   "outputs": [
    {
     "data": {
      "text/plain": [
       "array([ 300.84 ,  201.99 ,  162.696,  134.905,  134.905,  162.696,  201.99 ,  300.84 ])"
      ]
     },
     "execution_count": 13,
     "metadata": {},
     "output_type": "execute_result"
    }
   ],
   "source": [
    "wn"
   ]
  },
  {
   "cell_type": "markdown",
   "metadata": {},
   "source": [
    "Iremos agora calcular as frequências naturais para um range de velocidades."
   ]
  },
  {
   "cell_type": "code",
   "execution_count": 14,
   "metadata": {
    "collapsed": true
   },
   "outputs": [],
   "source": [
    "omega = sp.linspace(0, 200, 50)"
   ]
  },
  {
   "cell_type": "code",
   "execution_count": 15,
   "metadata": {
    "collapsed": false
   },
   "outputs": [],
   "source": [
    "fw = []\n",
    "bw = []\n",
    "fw2 = []\n",
    "bw2 = []\n",
    "for w in omega:\n",
    "    A = sp.vstack([sp.hstack([        Z,                 I]),\n",
    "                   sp.hstack([-Minv @ K, -Minv @ (G*w + C)])])\n",
    "    evalues, evects = la.eig(A)\n",
    "    evalues = sp.sort(evalues.imag)\n",
    "    wn = (sp.absolute(evalues))\n",
    "    bw.append(wn[4])\n",
    "    fw.append(wn[5])\n",
    "    bw2.append(wn[6])\n",
    "    fw2.append(wn[7])"
   ]
  },
  {
   "cell_type": "code",
   "execution_count": 16,
   "metadata": {
    "collapsed": false
   },
   "outputs": [
    {
     "data": {
      "text/plain": [
       "[<matplotlib.lines.Line2D at 0x7f0bf114b9e8>]"
      ]
     },
     "execution_count": 16,
     "metadata": {},
     "output_type": "execute_result"
    },
    {
     "data": {
      "image/png": "[encoded data removed]",
      "text/plain": [
       "<matplotlib.figure.Figure at 0x7f0bf43db780>"
      ]
     },
     "metadata": {},
     "output_type": "display_data"
    }
   ],
   "source": [
    "plt.plot(omega, bw)\n",
    "plt.plot(omega, fw)\n",
    "plt.plot(omega, bw2)\n",
    "plt.plot(omega, fw2)\n",
    "#plt.plot(Omega, Omega)"
   ]
  },
  {
   "cell_type": "markdown",
   "metadata": {},
   "source": [
    "Considerando o ${\\bf Q}$ em forma complexa temos:\n",
    "\\begin{equation}\n",
    "Q = \n",
    "\\left[ \\matrix{\n",
    "m \\epsilon \\Omega^2cos{(\\Omega t + \\delta}) \\\\\n",
    "m \\epsilon \\Omega^2sin{(\\Omega t + \\delta}) \\\\\n",
    "-(I_d - I_p)\\beta \\ \\Omega^2sin{(\\Omega t + \\gamma}) \\\\\n",
    "(I_d - I_p)\\beta \\ \\Omega^2cos{(\\Omega t + \\gamma})\n",
    "} \\right] \\\\ \n",
    "= \\Re\n",
    "\\left[ \\matrix{\n",
    "m \\epsilon e^{j\\delta} \\\\\n",
    "-{\\it j}m \\epsilon e^{j\\delta} \\\\\n",
    "{\\it j}(I_d - I_p)\\beta e^{j\\gamma} \\\\\n",
    "(I_d - I_p)\\beta e^{j\\gamma}\n",
    "} \\right] \\ \\Omega^2 e^{j \\Omega t} \\\\\n",
    "\\end{equation}\n"
   ]
  },
  {
   "cell_type": "markdown",
   "metadata": {},
   "source": [
    "Assumindo uma resposta da forma ${\\bf q}(t) = \\Re({\\bf q}_0 e^{j \\Omega t})$ :"
   ]
  },
  {
   "cell_type": "markdown",
   "metadata": {},
   "source": [
    "\\begin{equation}\n",
    "[-\\Omega^2{\\bf M} + {\\it j}\\Omega (\\Omega{\\bf G} + {\\bf C}) + {\\bf K}]{\\bf q}_0 e^{j \\Omega t} = \\Omega^2 {\\bf b}_0 e^{j \\Omega t}\n",
    "\\end{equation}"
   ]
  },
  {
   "cell_type": "markdown",
   "metadata": {},
   "source": [
    "\\begin{equation}\n",
    "{\\bf b}_0 = \n",
    "\\left[ \\matrix{\n",
    "m \\epsilon e^{j\\delta} \\\\\n",
    "-{\\it j}m \\epsilon e^{j\\delta} \\\\\n",
    "{\\it j}(I_d - I_p)\\beta e^{j\\gamma} \\\\\n",
    "(I_d - I_p)\\beta e^{j\\gamma}\n",
    "} \\right] \\\\\n",
    "\\end{equation}"
   ]
  },
  {
   "cell_type": "code",
   "execution_count": 17,
   "metadata": {
    "collapsed": true
   },
   "outputs": [],
   "source": [
    "me = 0.01\n",
    "delta = 0\n",
    "beta = 0\n",
    "gamma = 0"
   ]
  },
  {
   "cell_type": "code",
   "execution_count": 18,
   "metadata": {
    "collapsed": false
   },
   "outputs": [],
   "source": [
    "b0 = sp.array([me*sp.exp(1j*delta)               ,\n",
    "               -1j*me*sp.exp(1j*delta)           ,\n",
    "               1j*(Id - Ip)*beta*sp.exp(1j*gamma),\n",
    "               (Id - Ip)*beta*sp.exp(1j*gamma)   ])"
   ]
  },
  {
   "cell_type": "markdown",
   "metadata": {
    "collapsed": true
   },
   "source": [
    "\\begin{equation}\n",
    "{\\bf q}_0 = [-\\Omega^2{\\bf M} + {\\it j}\\Omega (\\Omega{\\bf G} + {\\bf C}) + {\\bf K}]^{-1} \\Omega^2 {\\bf b}_0\n",
    "\\end{equation}"
   ]
  },
  {
   "cell_type": "code",
   "execution_count": 19,
   "metadata": {
    "collapsed": false
   },
   "outputs": [],
   "source": [
    "def q0(w):\n",
    "    q0 = (la.inv(-w**2*M + 1j*w*(w*G + C) + K))*w**2 @ b0\n",
    "    return q0"
   ]
  },
  {
   "cell_type": "code",
   "execution_count": 20,
   "metadata": {
    "collapsed": false
   },
   "outputs": [],
   "source": [
    "omega = sp.linspace(0, 400, 700)"
   ]
  },
  {
   "cell_type": "code",
   "execution_count": 21,
   "metadata": {
    "collapsed": false
   },
   "outputs": [],
   "source": [
    "q0resp = q0(omega[0])\n",
    "for w in omega[1:]:\n",
    "    q0resp = sp.vstack([q0resp, q0(w)])"
   ]
  },
  {
   "cell_type": "code",
   "execution_count": 26,
   "metadata": {
    "collapsed": false
   },
   "outputs": [
    {
     "data": {
      "text/plain": [
       "(700, 4)"
      ]
     },
     "execution_count": 26,
     "metadata": {},
     "output_type": "execute_result"
    }
   ],
   "source": [
    "q0resp.shape"
   ]
  },
  {
   "cell_type": "code",
   "execution_count": 28,
   "metadata": {
    "collapsed": false
   },
   "outputs": [
    {
     "data": {
      "text/plain": [
       "<matplotlib.legend.Legend at 0x7f0bf06709e8>"
      ]
     },
     "execution_count": 28,
     "metadata": {},
     "output_type": "execute_result"
    },
    {
     "data": {
      "image/png": "[encoded data removed]",
      "text/plain": [
       "<matplotlib.figure.Figure at 0x7f0bf0686320>"
      ]
     },
     "metadata": {},
     "output_type": "display_data"
    }
   ],
   "source": [
    "fig = plt.figure()\n",
    "ax = fig.add_subplot(111)\n",
    "ax.plot(omega, sp.absolute(q0resp[:, 0]))\n",
    "ax.plot(omega, sp.absolute(q0resp[:, 1]))\n",
    "ax.semilogy()\n",
    "ax.legend(['u', 'v'])"
   ]
  },
  {
   "cell_type": "code",
   "execution_count": 23,
   "metadata": {
    "collapsed": false
   },
   "outputs": [
    {
     "data": {
      "text/plain": [
       "<matplotlib.legend.Legend at 0x7f0bf087d9e8>"
      ]
     },
     "execution_count": 23,
     "metadata": {},
     "output_type": "execute_result"
    },
    {
     "data": {
      "image/png": "[encoded data removed]",
      "text/plain": [
       "<matplotlib.figure.Figure at 0x7f0bf085cba8>"
      ]
     },
     "metadata": {},
     "output_type": "display_data"
    }
   ],
   "source": [
    "fig = plt.figure()\n",
    "ax = fig.add_subplot(111)\n",
    "ax.plot(omega, sp.absolute(q0resp[:, 2]))\n",
    "ax.plot(omega, sp.absolute(q0resp[:, 3]))\n",
    "ax.semilogy()\n",
    "ax.legend([r\"$\\theta$\", r'$\\psi$'])"
   ]
  },
  {
   "cell_type": "code",
   "execution_count": null,
   "metadata": {
    "collapsed": true
   },
   "outputs": [],
   "source": [
    ""
   ]
  }
 ],
 "metadata": {
  "anaconda-cloud": {},
  "kernelspec": {
   "display_name": "Python [default]",
   "language": "python",
   "name": "python3"
  },
  "language_info": {
   "codemirror_mode": {
    "name": "ipython",
    "version": 3.0
   },
   "file_extension": ".py",
   "mimetype": "text/x-python",
   "name": "python",
   "nbconvert_exporter": "python",
   "pygments_lexer": "ipython3",
   "version": "3.5.2"
  }
 },
 "nbformat": 4,
 "nbformat_minor": 0
}